{
 "cells": [
  {
   "cell_type": "markdown",
   "metadata": {},
   "source": [
    "                                                    #Pandas Tutorial"
   ]
  },
  {
   "cell_type": "code",
   "execution_count": 30,
   "metadata": {},
   "outputs": [
    {
     "data": {
      "text/plain": [
       "7"
      ]
     },
     "execution_count": 30,
     "metadata": {},
     "output_type": "execute_result"
    }
   ],
   "source": [
    "import pandas as pd\n",
    "pd.__version__\n",
    "data = pd.Series([0.25, 0.5, 0.75, 1.0])\n",
    "data\n",
    "#Pandas series array is nothing but a array in NumPy\n",
    "data.index\n",
    "data[0]\n",
    "data = pd.Series([0.25, 0.5, 0.75, 1.0],index=['a','b','c','d'])\n",
    "data\n",
    "\n",
    "#Pandas Series using Dict\n",
    "population_dict = {'California': 38332521,\n",
    "                   'Texas': 26448193,\n",
    "                   'New York': 19651127,\n",
    "                   'Florida': 19552860,\n",
    "                   'Illinois': 12882135}\n",
    "dict_data=pd.Series(population_dict)\n",
    "\n",
    "#Printing Series\n",
    "dict_data\n",
    "\n",
    "#Slicing in Series(Dictionary)\n",
    "dict_data['Texas':]\n",
    "\n",
    "area_dict = {'California': 423967, 'Texas': 695662, 'New York': 141297,\n",
    "             'Florida': 170312, 'Illinois': 149995}\n",
    "area = pd.Series(area_dict)\n",
    "area\n",
    "\n",
    "#DataFrames in Pandas-Combination of two Series object or Dictionary\n",
    "states = pd.DataFrame({'population': dict_data,\n",
    "                       'area': area})\n",
    "states\n",
    "\n",
    "#Index of DataFrame object\n",
    "states.index\n",
    "\n",
    "states.columns\n",
    "\n",
    "states.head\n",
    "\n",
    "states.head(3) #Return first 3 rows\n",
    "states.tail\n",
    "states.shape\n",
    "\n",
    "#Index object->Its a stsructure like the previous ones\n",
    "ind = pd.Index([2, 3, 5, 7, 11,'aashiq'])\n",
    "ind\n",
    "\n",
    "#We can access using the index or we can slice\n",
    "ind[::-1] #Reversing the array\n",
    "ind[3]"
   ]
  },
  {
   "cell_type": "code",
   "execution_count": null,
   "metadata": {},
   "outputs": [],
   "source": []
  }
 ],
 "metadata": {
  "kernelspec": {
   "display_name": "Python 3",
   "language": "python",
   "name": "python3"
  },
  "language_info": {
   "codemirror_mode": {
    "name": "ipython",
    "version": 3
   },
   "file_extension": ".py",
   "mimetype": "text/x-python",
   "name": "python",
   "nbconvert_exporter": "python",
   "pygments_lexer": "ipython3",
   "version": "3.7.6"
  }
 },
 "nbformat": 4,
 "nbformat_minor": 4
}
